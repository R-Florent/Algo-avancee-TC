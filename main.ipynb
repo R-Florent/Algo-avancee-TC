{
 "cells": [
  {
   "cell_type": "code",
   "execution_count": null,
   "outputs": [],
   "source": [
    "Cela permet de générait nos ville pour un chemin aléatoire parmis un fichier CSV conteant un nombre non exautife des ville \n",
    "qu'il y a en France\n",
    "\n",
    "\n",
    "import pandas as pd\n",
    "import random\n",
    "\n",
    "# Chargez le fichier CSV contenant les données des villes\n",
    "data = pd.read_csv(\"villes_france.csv\")  # Assurez-vous d'ajuster le nom du fichier\n",
    "\n",
    "# Sélectionnez aléatoirement 10 villes parmi les 100 premières\n",
    "top_100_villes = data.head(100)\n",
    "villes_aleatoires = random.sample(top_100_villes['Nom'], 10)\n",
    "\n",
    "# Affichez les 10 villes aléatoires\n",
    "villes_aleatoires\n",
    "\n",
    "print (\"hello wolrd\")"
   ],
   "metadata": {
    "collapsed": false
   }
  },
  {
   "cell_type": "code",
   "execution_count": 4,
   "metadata": {
    "ExecuteTime": {
     "end_time": "2023-10-09T18:00:35.537672600Z",
     "start_time": "2023-10-09T18:00:35.514401500Z"
    }
   },
   "outputs": [],
   "source": [
    "import folium\n",
    "\n",
    "# Créer une carte centrée sur une position géographique (latitude, longitude)\n",
    "m = folium.Map(location=[43.7102, 7.2620], zoom_start=12)  # Par exemple, Nice, France\n",
    "\n",
    "# Ajouter des marqueurs pour le point de départ et d'arrivée\n",
    "start_location = [43.7102, 7.2620]\n",
    "end_location = [43.6047, 7.1977]  # Par exemple, Cannes, France\n",
    "folium.Marker(start_location, tooltip='Point de départ').add_to(m)\n",
    "folium.Marker(end_location, tooltip='Point d\\'arrivée').add_to(m)\n",
    "\n",
    "# Ajouter une ligne reliant les deux points\n",
    "folium.PolyLine([start_location, end_location], color=\"blue\").add_to(m)\n",
    "\n",
    "# Afficher la carte\n",
    "m.save('itineraire.html')  # Sauvegarder la carte au format HTML\n"
   ]
  }
 ],
 "metadata": {
  "kernelspec": {
   "display_name": "Python 3 (ipykernel)",
   "language": "python",
   "name": "python3"
  },
  "language_info": {
   "codemirror_mode": {
    "name": "ipython",
    "version": 3
   },
   "file_extension": ".py",
   "mimetype": "text/x-python",
   "name": "python",
   "nbconvert_exporter": "python",
   "pygments_lexer": "ipython3",
   "version": "3.11.5"
  }
 },
 "nbformat": 4,
 "nbformat_minor": 4
}
